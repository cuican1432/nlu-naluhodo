{
 "cells": [
  {
   "cell_type": "code",
   "execution_count": null,
   "metadata": {
    "ExecuteTime": {
     "start_time": "2019-04-26T21:47:54.249Z"
    }
   },
   "outputs": [],
   "source": [
    "import numpy as np\n",
    "import pandas as pd\n",
    "import matplotlib.pyplot as plt\n",
    "import time\n",
    "%matplotlib inline\n",
    "import pickle\n",
    "from tqdm import tqdm_notebook as tqdm"
   ]
  },
  {
   "cell_type": "code",
   "execution_count": 2,
   "metadata": {
    "ExecuteTime": {
     "end_time": "2019-04-26T21:33:46.449347Z",
     "start_time": "2019-04-26T21:33:43.866551Z"
    }
   },
   "outputs": [
    {
     "name": "stderr",
     "output_type": "stream",
     "text": [
      "Using TensorFlow backend.\n"
     ]
    }
   ],
   "source": [
    "from emb.load_embeddings import DataEmbeddings"
   ]
  },
  {
   "cell_type": "code",
   "execution_count": 3,
   "metadata": {
    "ExecuteTime": {
     "end_time": "2019-04-26T21:33:46.587294Z",
     "start_time": "2019-04-26T21:33:46.452136Z"
    }
   },
   "outputs": [
    {
     "name": "stdout",
     "output_type": "stream",
     "text": [
      "2019 NLU Naluhodo Example.ipynb  \u001b[0m\u001b[38;5;27memb\u001b[0m/                   README.md\r\n",
      "best_model.hdf5                  \u001b[38;5;27meval\u001b[0m/                  ROC_Curve_Util.py\r\n",
      "Confusion_Matrix_Util.py         main.py                slurm-911387.out\r\n",
      "\u001b[38;5;27mdata\u001b[0m/                            \u001b[38;5;27mmodels\u001b[0m/\r\n",
      "Elaine_test.ipynb                Predict_Class_Util.py\r\n"
     ]
    }
   ],
   "source": [
    "ls"
   ]
  },
  {
   "cell_type": "markdown",
   "metadata": {},
   "source": [
    "## load data"
   ]
  },
  {
   "cell_type": "markdown",
   "metadata": {},
   "source": [
    "Load upsample indices, upsamples the orginal datasets from `1.7k` to `30k` training data by bootstrapping and random split as `training`, `validation`, `test` using k-fold validation  methodology (3-fold) in this case."
   ]
  },
  {
   "cell_type": "code",
   "execution_count": 4,
   "metadata": {
    "ExecuteTime": {
     "end_time": "2019-04-26T21:33:46.599156Z",
     "start_time": "2019-04-26T21:33:46.590942Z"
    }
   },
   "outputs": [
    {
     "name": "stdout",
     "output_type": "stream",
     "text": [
      "train\n",
      "val\n",
      "test\n"
     ]
    }
   ],
   "source": [
    "data_index = pickle.load(open('data/data_upsample_index.p', 'rb'))\n",
    "\n",
    "for key in data_index:\n",
    "    print(key)"
   ]
  },
  {
   "cell_type": "markdown",
   "metadata": {},
   "source": [
    "Load original full dataset `beeap_1.csv`."
   ]
  },
  {
   "cell_type": "code",
   "execution_count": 5,
   "metadata": {
    "ExecuteTime": {
     "end_time": "2019-04-26T21:33:47.076428Z",
     "start_time": "2019-04-26T21:33:46.601898Z"
    }
   },
   "outputs": [
    {
     "name": "stdout",
     "output_type": "stream",
     "text": [
      "(1702, 26)\n"
     ]
    }
   ],
   "source": [
    "beeap_1 = pd.read_csv('data/beeapfinal/beeap_1.csv')\n",
    "beeap_1.drop('Unnamed: 0', axis=1, inplace=True)\n",
    "for i in beeap_1.columns[1:]:\n",
    "    beeap_1[i] = beeap_1[i].astype(np.float64, errors='ignore')\n",
    "    \n",
    "print(beeap_1.shape)\n",
    "# beeap_1.head()"
   ]
  },
  {
   "cell_type": "code",
   "execution_count": 6,
   "metadata": {
    "ExecuteTime": {
     "end_time": "2019-04-26T21:34:47.224292Z",
     "start_time": "2019-04-26T21:33:47.079326Z"
    }
   },
   "outputs": [
    {
     "name": "stderr",
     "output_type": "stream",
     "text": [
      "846it [00:00, 8459.08it/s]"
     ]
    },
    {
     "name": "stdout",
     "output_type": "stream",
     "text": [
      "Creating data sample 1 out of 3...\n",
      "max_len : 200\n",
      "max_feature : 100000\n",
      "embed_size : 300\n",
      "Loading word vectors...\n"
     ]
    },
    {
     "name": "stderr",
     "output_type": "stream",
     "text": [
      "400000it [00:28, 13821.14it/s]\n"
     ]
    },
    {
     "name": "stdout",
     "output_type": "stream",
     "text": [
      "Found 400000 word vectors.\n",
      "Loading email contents...\n",
      "max sequence length: 36540\n",
      "min sequence length: 58\n",
      "median sequence length: 303\n",
      "Found 26969 unique tokens.\n",
      "Shape of data tensor: (34040, 200)\n",
      "Filling pre-trained embeddings...\n",
      "Finished.\n",
      "Generated X_train, y_train, X_valid, y_valid, X_test, y_test, embedding_layer as class attributes.\n"
     ]
    }
   ],
   "source": [
    "dataset1 = DataEmbeddings(data_index, nth_sample= 0)\n",
    "X_train, y_train, X_valid, y_valid, X_test, y_test, embedding_layer = dataset1.load_data_embeddings(beeap_1, '/scratch/cc5048/DataSource/glove.6B.300d.txt')"
   ]
  },
  {
   "cell_type": "code",
   "execution_count": 7,
   "metadata": {
    "ExecuteTime": {
     "end_time": "2019-04-26T21:35:37.931338Z",
     "start_time": "2019-04-26T21:35:37.896549Z"
    }
   },
   "outputs": [],
   "source": [
    "from models.BiLSTM import BiLstm"
   ]
  },
  {
   "cell_type": "code",
   "execution_count": 8,
   "metadata": {
    "ExecuteTime": {
     "end_time": "2019-04-26T21:35:39.693207Z",
     "start_time": "2019-04-26T21:35:39.688126Z"
    }
   },
   "outputs": [
    {
     "name": "stdout",
     "output_type": "stream",
     "text": [
      "Building BiLstm Models ...\n",
      "{'max_len': 200, 'batch_size': 128, 'epochs': 100, 'learning_rate': 0.001, 'learning_rate_decay': 0, 'units': 128, 'drop_out_rate': 0.2, 'checkpoint_path': 'best_model.hdf5', 'early_stop_patience': 10}\n"
     ]
    }
   ],
   "source": [
    "bilstm_1 =  BiLstm()\n",
    "bilstm_1.arguments['epochs'] = 2"
   ]
  },
  {
   "cell_type": "code",
   "execution_count": 9,
   "metadata": {
    "ExecuteTime": {
     "end_time": "2019-04-26T21:36:30.049467Z",
     "start_time": "2019-04-26T21:35:44.821581Z"
    }
   },
   "outputs": [
    {
     "name": "stdout",
     "output_type": "stream",
     "text": [
      "WARNING:tensorflow:From /home/cc5048/.conda/envs/py36/lib/python3.6/site-packages/tensorflow/python/framework/op_def_library.py:263: colocate_with (from tensorflow.python.framework.ops) is deprecated and will be removed in a future version.\n",
      "Instructions for updating:\n",
      "Colocations handled automatically by placer.\n",
      "WARNING:tensorflow:From /home/cc5048/.conda/envs/py36/lib/python3.6/site-packages/keras/backend/tensorflow_backend.py:3144: calling dropout (from tensorflow.python.ops.nn_ops) with keep_prob is deprecated and will be removed in a future version.\n",
      "Instructions for updating:\n",
      "Please use `rate` instead of `keep_prob`. Rate should be set to `rate = 1 - keep_prob`.\n",
      "WARNING:tensorflow:From /home/cc5048/.conda/envs/py36/lib/python3.6/site-packages/tensorflow/python/ops/math_ops.py:3066: to_int32 (from tensorflow.python.ops.math_ops) is deprecated and will be removed in a future version.\n",
      "Instructions for updating:\n",
      "Use tf.cast instead.\n",
      "WARNING:tensorflow:From /home/cc5048/.conda/envs/py36/lib/python3.6/site-packages/tensorflow/python/ops/math_grad.py:102: div (from tensorflow.python.ops.math_ops) is deprecated and will be removed in a future version.\n",
      "Instructions for updating:\n",
      "Deprecated in favor of operator or tf.math.divide.\n",
      "Train on 34040 samples, validate on 227 samples\n",
      "Epoch 1/2\n",
      "34040/34040 [==============================] - 20s 590us/step - loss: 0.2137 - acc: 0.9149 - val_loss: 0.2813 - val_acc: 0.8943\n",
      "\n",
      " ROC-AUC - epoch: 1 - score: 0.892094\n",
      "\n",
      "Epoch 00001: val_loss improved from inf to 0.28129, saving model to best_model.hdf5\n",
      "Epoch 2/2\n",
      "34040/34040 [==============================] - 18s 523us/step - loss: 0.0418 - acc: 0.9881 - val_loss: 0.3893 - val_acc: 0.8965\n",
      "\n",
      " ROC-AUC - epoch: 2 - score: 0.883934\n",
      "\n",
      "Epoch 00002: val_loss did not improve from 0.28129\n",
      "Finished Building BiLstm Model as class attribute class.model\n"
     ]
    },
    {
     "data": {
      "text/plain": [
       "<models.BiLSTM.BiLstm at 0x2afab242d978>"
      ]
     },
     "execution_count": 9,
     "metadata": {},
     "output_type": "execute_result"
    }
   ],
   "source": [
    "bilstm_1.fit(X_train, y_train, X_valid, y_valid, embedding_layer)"
   ]
  },
  {
   "cell_type": "markdown",
   "metadata": {},
   "source": [
    "haven't done for Lstm model .. before going through the predictons"
   ]
  },
  {
   "cell_type": "code",
   "execution_count": 13,
   "metadata": {
    "ExecuteTime": {
     "end_time": "2019-04-26T21:37:33.533505Z",
     "start_time": "2019-04-26T21:37:33.443895Z"
    }
   },
   "outputs": [
    {
     "name": "stdout",
     "output_type": "stream",
     "text": [
      "340/340 [==============================] - 0s 250us/step\n"
     ]
    }
   ],
   "source": [
    "pred = bilstm_1.predict(X_test)"
   ]
  },
  {
   "cell_type": "code",
   "execution_count": 11,
   "metadata": {
    "ExecuteTime": {
     "end_time": "2019-04-26T21:26:14.024762Z",
     "start_time": "2019-04-26T21:26:14.021378Z"
    }
   },
   "outputs": [],
   "source": [
    "# lstm_1 =  Lstm(dataset1.X_train, dataset1.y_train, dataset1.X_valid, dataset1.y_valid, dataset1.embedding_layer)\n",
    "# lstm_1.arguments['epochs'] = 2"
   ]
  },
  {
   "cell_type": "code",
   "execution_count": 12,
   "metadata": {
    "ExecuteTime": {
     "end_time": "2019-04-26T21:26:14.293037Z",
     "start_time": "2019-04-26T21:26:14.289571Z"
    }
   },
   "outputs": [],
   "source": [
    "# lstm_1.build_model()"
   ]
  },
  {
   "cell_type": "code",
   "execution_count": 14,
   "metadata": {
    "ExecuteTime": {
     "end_time": "2019-04-26T21:42:46.401731Z",
     "start_time": "2019-04-26T21:42:46.012743Z"
    }
   },
   "outputs": [],
   "source": [
    "from eval.evaluation import pred_classes_dt, pred_classes_f1, plot_roc_curve, plot_confusion_matrix"
   ]
  },
  {
   "cell_type": "code",
   "execution_count": 15,
   "metadata": {
    "ExecuteTime": {
     "end_time": "2019-04-26T21:44:10.498812Z",
     "start_time": "2019-04-26T21:44:03.690849Z"
    }
   },
   "outputs": [
    {
     "name": "stdout",
     "output_type": "stream",
     "text": [
      "34040/34040 [==============================] - 7s 199us/step\n"
     ]
    },
    {
     "ename": "NameError",
     "evalue": "name 'predictions' is not defined",
     "output_type": "error",
     "traceback": [
      "\u001b[0;31m---------------------------------------------------------------------------\u001b[0m",
      "\u001b[0;31mNameError\u001b[0m                                 Traceback (most recent call last)",
      "\u001b[0;32m<ipython-input-15-03bd1f0197c0>\u001b[0m in \u001b[0;36m<module>\u001b[0;34m\u001b[0m\n\u001b[1;32m      1\u001b[0m \u001b[0mtrain_pred\u001b[0m \u001b[0;34m=\u001b[0m \u001b[0mbilstm_1\u001b[0m\u001b[0;34m.\u001b[0m\u001b[0mpredict\u001b[0m\u001b[0;34m(\u001b[0m\u001b[0mX_train\u001b[0m\u001b[0;34m)\u001b[0m\u001b[0;34m\u001b[0m\u001b[0;34m\u001b[0m\u001b[0m\n\u001b[0;32m----> 2\u001b[0;31m \u001b[0my_pred_dt\u001b[0m \u001b[0;34m=\u001b[0m \u001b[0mpred_classes_dt\u001b[0m\u001b[0;34m(\u001b[0m\u001b[0mtrain_pred\u001b[0m\u001b[0;34m,\u001b[0m \u001b[0my_train\u001b[0m\u001b[0;34m,\u001b[0m \u001b[0mnp\u001b[0m\u001b[0;34m.\u001b[0m\u001b[0maverage\u001b[0m\u001b[0;34m(\u001b[0m\u001b[0mpredictions\u001b[0m\u001b[0;34m,\u001b[0m \u001b[0maxis\u001b[0m\u001b[0;34m=\u001b[0m\u001b[0;36m0\u001b[0m\u001b[0;34m)\u001b[0m\u001b[0;34m)\u001b[0m\u001b[0;34m\u001b[0m\u001b[0;34m\u001b[0m\u001b[0m\n\u001b[0m",
      "\u001b[0;31mNameError\u001b[0m: name 'predictions' is not defined"
     ]
    }
   ],
   "source": [
    "train_pred = bilstm_1.predict(X_train)\n",
    "y_pred_dt = pred_classes_dt(train_pred, y_train, np.average(predictions, axis=0))"
   ]
  },
  {
   "cell_type": "code",
   "execution_count": null,
   "metadata": {},
   "outputs": [],
   "source": []
  }
 ],
 "metadata": {
  "kernelspec": {
   "display_name": "py36",
   "language": "python",
   "name": "py36"
  },
  "language_info": {
   "codemirror_mode": {
    "name": "ipython",
    "version": 3
   },
   "file_extension": ".py",
   "mimetype": "text/x-python",
   "name": "python",
   "nbconvert_exporter": "python",
   "pygments_lexer": "ipython3",
   "version": "3.6.8"
  }
 },
 "nbformat": 4,
 "nbformat_minor": 2
}
