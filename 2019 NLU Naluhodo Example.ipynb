{
 "cells": [
  {
   "cell_type": "code",
   "execution_count": 1,
   "metadata": {},
   "outputs": [],
   "source": [
    "import numpy as np\n",
    "import pandas as pd\n",
    "import matplotlib.pyplot as plt\n",
    "import time\n",
    "%matplotlib inline"
   ]
  },
  {
   "cell_type": "markdown",
   "metadata": {},
   "source": [
    "# load data"
   ]
  },
  {
   "cell_type": "code",
   "execution_count": 2,
   "metadata": {},
   "outputs": [],
   "source": [
    "import pickle\n",
    "\n",
    "data_index = pickle.load(open('../input/upsamplekfoldindex/data_index.p', 'rb'))"
   ]
  },
  {
   "cell_type": "code",
   "execution_count": 3,
   "metadata": {
    "_cell_guid": "79c7e3d0-c299-4dcb-8224-4455121ee9b0",
    "_uuid": "d629ff2d2480ee46fbb7e2d37f6b5fab8052498a"
   },
   "outputs": [
    {
     "name": "stdout",
     "output_type": "stream",
     "text": [
      "(1702, 26)\n"
     ]
    },
    {
     "data": {
      "text/html": [
       "<div>\n",
       "<style scoped>\n",
       "    .dataframe tbody tr th:only-of-type {\n",
       "        vertical-align: middle;\n",
       "    }\n",
       "\n",
       "    .dataframe tbody tr th {\n",
       "        vertical-align: top;\n",
       "    }\n",
       "\n",
       "    .dataframe thead th {\n",
       "        text-align: right;\n",
       "    }\n",
       "</style>\n",
       "<table border=\"1\" class=\"dataframe\">\n",
       "  <thead>\n",
       "    <tr style=\"text-align: right;\">\n",
       "      <th></th>\n",
       "      <th>Index</th>\n",
       "      <th>Email</th>\n",
       "      <th>Message-ID</th>\n",
       "      <th>Date</th>\n",
       "      <th>From</th>\n",
       "      <th>To</th>\n",
       "      <th>Subject</th>\n",
       "      <th>Cc</th>\n",
       "      <th>Mime-Version</th>\n",
       "      <th>Content-Type</th>\n",
       "      <th>Content-Transfer-Encoding</th>\n",
       "      <th>Bcc</th>\n",
       "      <th>X-From</th>\n",
       "      <th>X-To</th>\n",
       "      <th>X-cc</th>\n",
       "      <th>X-Folder</th>\n",
       "      <th>X-Origin</th>\n",
       "      <th>X-FileName</th>\n",
       "      <th>Content</th>\n",
       "      <th>1</th>\n",
       "      <th>2</th>\n",
       "      <th>3</th>\n",
       "      <th>4</th>\n",
       "      <th>5</th>\n",
       "      <th>6</th>\n",
       "      <th>Contents</th>\n",
       "    </tr>\n",
       "  </thead>\n",
       "  <tbody>\n",
       "    <tr>\n",
       "      <th>0</th>\n",
       "      <td>10425</td>\n",
       "      <td>Message-ID: &lt;197504.1075840201539.JavaMail.eva...</td>\n",
       "      <td>&lt;197504.1075840201539.JavaMail.evans@thyme&gt;</td>\n",
       "      <td>Mon, 18 Oct 1999 01:47:00 -0700 (PDT)</td>\n",
       "      <td>steven.kean@enron.com</td>\n",
       "      <td>mark.schroeder@enron.com, kenneth.lay@enron.co...</td>\n",
       "      <td>Translation of articles</td>\n",
       "      <td>NaN</td>\n",
       "      <td>1.0</td>\n",
       "      <td>text/plain; charset=us-ascii</td>\n",
       "      <td>7bit</td>\n",
       "      <td>NaN</td>\n",
       "      <td>Steven J Kean</td>\n",
       "      <td>Mark Schroeder, Kenneth Lay, Joseph W Sutton, ...</td>\n",
       "      <td>NaN</td>\n",
       "      <td>\\Kenneth_Lay_Dec2000\\Notes Folders\\All documents</td>\n",
       "      <td>LAY-K</td>\n",
       "      <td>klay.nsf</td>\n",
       "      <td>forwarded by steven j kean hou ees on am kare...</td>\n",
       "      <td>1.0</td>\n",
       "      <td>0.0</td>\n",
       "      <td>0.0</td>\n",
       "      <td>0.0</td>\n",
       "      <td>0.0</td>\n",
       "      <td>0.0</td>\n",
       "      <td>message id javamail evans@thyme date mon oct p...</td>\n",
       "    </tr>\n",
       "    <tr>\n",
       "      <th>1</th>\n",
       "      <td>106296</td>\n",
       "      <td>Message-ID: &lt;11991339.1075842536086.JavaMail.e...</td>\n",
       "      <td>&lt;11991339.1075842536086.JavaMail.evans@thyme&gt;</td>\n",
       "      <td>Mon, 5 Mar 2001 08:23:00 -0800 (PST)</td>\n",
       "      <td>drew.fossum@enron.com</td>\n",
       "      <td>darrell.schoolcraft@enron.com</td>\n",
       "      <td>TW Gas Sales: PRIVILEGED AND CONFIDENTIAL ATTO...</td>\n",
       "      <td>danny.mccarty@enron.com, steven.harris@enron.c...</td>\n",
       "      <td>1.0</td>\n",
       "      <td>text/plain; charset=us-ascii</td>\n",
       "      <td>7bit</td>\n",
       "      <td>danny.mccarty@enron.com, steven.harris@enron.c...</td>\n",
       "      <td>Drew Fossum</td>\n",
       "      <td>Darrell Schoolcraft</td>\n",
       "      <td>Danny McCarty, Steven Harris, Kevin Hyatt</td>\n",
       "      <td>\\Drew_Fossum_Dec2000_June2001_2\\Notes Folders\\...</td>\n",
       "      <td>FOSSUM-D</td>\n",
       "      <td>dfossum.nsf</td>\n",
       "      <td>in anticipation of potential litigation involv...</td>\n",
       "      <td>1.0</td>\n",
       "      <td>0.0</td>\n",
       "      <td>0.0</td>\n",
       "      <td>0.0</td>\n",
       "      <td>0.0</td>\n",
       "      <td>0.0</td>\n",
       "      <td>message id javamail evans@thyme date mon mar p...</td>\n",
       "    </tr>\n",
       "    <tr>\n",
       "      <th>2</th>\n",
       "      <td>106298</td>\n",
       "      <td>Message-ID: &lt;7106753.1075842536132.JavaMail.ev...</td>\n",
       "      <td>&lt;7106753.1075842536132.JavaMail.evans@thyme&gt;</td>\n",
       "      <td>Tue, 6 Mar 2001 00:59:00 -0800 (PST)</td>\n",
       "      <td>drew.fossum@enron.com</td>\n",
       "      <td>julia.white@enron.com, steven.january@enron.com</td>\n",
       "      <td>TW Gas Sales: PRIVILEGED AND CONFIDENTIAL ATTO...</td>\n",
       "      <td>darrell.schoolcraft@enron.com</td>\n",
       "      <td>1.0</td>\n",
       "      <td>text/plain; charset=us-ascii</td>\n",
       "      <td>7bit</td>\n",
       "      <td>darrell.schoolcraft@enron.com</td>\n",
       "      <td>Drew Fossum</td>\n",
       "      <td>Julia White, Steven January</td>\n",
       "      <td>Darrell Schoolcraft</td>\n",
       "      <td>\\Drew_Fossum_Dec2000_June2001_2\\Notes Folders\\...</td>\n",
       "      <td>FOSSUM-D</td>\n",
       "      <td>dfossum.nsf</td>\n",
       "      <td>julia and steve here are some questions i ve s...</td>\n",
       "      <td>1.0</td>\n",
       "      <td>0.0</td>\n",
       "      <td>0.0</td>\n",
       "      <td>0.0</td>\n",
       "      <td>0.0</td>\n",
       "      <td>1.0</td>\n",
       "      <td>message id javamail evans@thyme date tue mar p...</td>\n",
       "    </tr>\n",
       "    <tr>\n",
       "      <th>3</th>\n",
       "      <td>106588</td>\n",
       "      <td>Message-ID: &lt;21267718.1075863331587.JavaMail.e...</td>\n",
       "      <td>&lt;21267718.1075863331587.JavaMail.evans@thyme&gt;</td>\n",
       "      <td>Tue, 6 Mar 2001 11:59:00 -0800 (PST)</td>\n",
       "      <td>drew.fossum@enron.com</td>\n",
       "      <td>julia.white@enron.com, steven.january@enron.com</td>\n",
       "      <td>TW Gas Sales: PRIVILEGED AND CONFIDENTIAL ATTO...</td>\n",
       "      <td>darrell.schoolcraft@enron.com</td>\n",
       "      <td>1.0</td>\n",
       "      <td>text/plain; charset=us-ascii</td>\n",
       "      <td>7bit</td>\n",
       "      <td>darrell.schoolcraft@enron.com</td>\n",
       "      <td>Drew Fossum</td>\n",
       "      <td>Julia White &lt;Julia White/ET&amp;S/Enron@ENRON&gt;, St...</td>\n",
       "      <td>Darrell Schoolcraft &lt;Darrell Schoolcraft/ET&amp;S/...</td>\n",
       "      <td>\\DFOSSUM (Non-Privileged)\\Fossum, Drew\\'Sent Mail</td>\n",
       "      <td>Fossum-D</td>\n",
       "      <td>DFOSSUM (Non-Privileged).pst</td>\n",
       "      <td>julia and steve here are some questions i ve s...</td>\n",
       "      <td>1.0</td>\n",
       "      <td>0.0</td>\n",
       "      <td>0.0</td>\n",
       "      <td>0.0</td>\n",
       "      <td>0.0</td>\n",
       "      <td>0.0</td>\n",
       "      <td>message id javamail evans@thyme date tue mar p...</td>\n",
       "    </tr>\n",
       "    <tr>\n",
       "      <th>4</th>\n",
       "      <td>106590</td>\n",
       "      <td>Message-ID: &lt;20866019.1075863331634.JavaMail.e...</td>\n",
       "      <td>&lt;20866019.1075863331634.JavaMail.evans@thyme&gt;</td>\n",
       "      <td>Mon, 5 Mar 2001 19:23:00 -0800 (PST)</td>\n",
       "      <td>drew.fossum@enron.com</td>\n",
       "      <td>darrell.schoolcraft@enron.com</td>\n",
       "      <td>TW Gas Sales: PRIVILEGED AND CONFIDENTIAL ATTO...</td>\n",
       "      <td>danny.mccarty@enron.com, steven.harris@enron.c...</td>\n",
       "      <td>1.0</td>\n",
       "      <td>text/plain; charset=us-ascii</td>\n",
       "      <td>7bit</td>\n",
       "      <td>danny.mccarty@enron.com, steven.harris@enron.c...</td>\n",
       "      <td>Drew Fossum</td>\n",
       "      <td>Darrell Schoolcraft &lt;Darrell Schoolcraft/ET&amp;S/...</td>\n",
       "      <td>Danny McCarty &lt;Danny McCarty/ET&amp;S/Enron@Enron&gt;...</td>\n",
       "      <td>\\DFOSSUM (Non-Privileged)\\Fossum, Drew\\'Sent Mail</td>\n",
       "      <td>Fossum-D</td>\n",
       "      <td>DFOSSUM (Non-Privileged).pst</td>\n",
       "      <td>in anticipation of potential litigation involv...</td>\n",
       "      <td>1.0</td>\n",
       "      <td>0.0</td>\n",
       "      <td>0.0</td>\n",
       "      <td>0.0</td>\n",
       "      <td>0.0</td>\n",
       "      <td>0.0</td>\n",
       "      <td>message id javamail evans@thyme date mon mar p...</td>\n",
       "    </tr>\n",
       "  </tbody>\n",
       "</table>\n",
       "</div>"
      ],
      "text/plain": [
       "    Index                        ...                                                                   Contents\n",
       "0   10425                        ...                          message id javamail evans@thyme date mon oct p...\n",
       "1  106296                        ...                          message id javamail evans@thyme date mon mar p...\n",
       "2  106298                        ...                          message id javamail evans@thyme date tue mar p...\n",
       "3  106588                        ...                          message id javamail evans@thyme date tue mar p...\n",
       "4  106590                        ...                          message id javamail evans@thyme date mon mar p...\n",
       "\n",
       "[5 rows x 26 columns]"
      ]
     },
     "execution_count": 3,
     "metadata": {},
     "output_type": "execute_result"
    }
   ],
   "source": [
    "beeap_1 = pd.read_csv('../input/beeapfinal/beeap_1.csv')\n",
    "beeap_1.drop('Unnamed: 0', axis=1, inplace=True)\n",
    "for i in beeap_1.columns[1:]:\n",
    "    beeap_1[i] = beeap_1[i].astype(np.float64, errors='ignore')\n",
    "print(beeap_1.shape)\n",
    "beeap_1.head()"
   ]
  },
  {
   "cell_type": "markdown",
   "metadata": {},
   "source": [
    "# Model"
   ]
  },
  {
   "cell_type": "code",
   "execution_count": 4,
   "metadata": {},
   "outputs": [
    {
     "name": "stderr",
     "output_type": "stream",
     "text": [
      "Using TensorFlow backend.\n"
     ]
    }
   ],
   "source": [
    "import numpy as np\n",
    "import pandas as pd\n",
    "import matplotlib.pyplot as plt\n",
    "\n",
    "from keras.preprocessing.text import Tokenizer\n",
    "from keras.preprocessing.sequence import pad_sequences\n",
    "from keras.layers import Embedding\n",
    "from sklearn.model_selection import train_test_split\n",
    "from tqdm import tqdm\n",
    "\n",
    "def main(data_set, embedding_path, data_index=None, content_column='contents', label_column='labels', max_len=200, max_features=100000, embed_size=300):\n",
    "\n",
    "    \"\"\"\n",
    "    Input:\n",
    "    data_set: pandas DataFrame that contains text contents and labels\n",
    "    embedding_path: word embedding saving path\n",
    "    data_index: list of np.array that contains the training, validation, and test indeces\n",
    "    content_column: Name of content column, default is 'contents'\n",
    "    label_column: Name of label column(s), default is 'labels'\n",
    "    max_len: the padding lenth of the text, default is 200\n",
    "    max_features: Maximum number of words recognized by the model, default is 100000\n",
    "    embed_size: length of embedding vector, should correspond with the embedding provided, default is 300\n",
    "    \"\"\"\n",
    "\n",
    "    # Build dictionary from word embedding\n",
    "    print('Loading word vectors...')\n",
    "    #word2vec = {}\n",
    "    #with tqdm(open(embedding_path)) as f:\n",
    "    #with open(embedding_path) as f:\n",
    "    #    for line in f:\n",
    "    #        values = line.split()\n",
    "    #        word = values[0]\n",
    "    #        vec = np.asarray(values[1:], dtype='float32')\n",
    "    #        word2vec[word] = vec\n",
    "    \n",
    "    def get_coefs(word,*arr): return word, np.asarray(arr, dtype='float32')\n",
    "    word2vec = dict(get_coefs(*o.strip().split(\" \")) for o in tqdm(open(embedding_path)))\n",
    "    \n",
    "    print('Found %s word vectors.' % len(word2vec))\n",
    "\n",
    "    # prepare text samples and their labels\n",
    "    print('Loading in comments...')\n",
    "    # extract the comments, fill NaN with some values\n",
    "    contents = data_set[content_column].fillna(\"DUMMY_VALUE\").values\n",
    "    labels = data_set[label_column].values\n",
    "    \n",
    "    if data_index == None:\n",
    "        X_train, X_test, y_train, y_test = train_test_split(contents, labels, test_size = 0.2, random_state=0)\n",
    "        X_train, X_valid, y_train, y_valid = train_test_split(X_train, y_train, test_size = 0.125, random_state=0)\n",
    "    else:\n",
    "        X_train = contents[data_index[0]]\n",
    "        y_train = labels[data_index[0]]\n",
    "        X_valid = contents[data_index[1]]\n",
    "        y_valid = labels[data_index[1]]\n",
    "        X_test = contents[data_index[2]]\n",
    "        y_test = labels[data_index[2]]\n",
    "\n",
    "    # convert the sentences (strings) into integers, thus they can be used as index later on\n",
    "    tokenizer = Tokenizer(num_words=max_features)\n",
    "    tokenizer.fit_on_texts(X_train)\n",
    "    #sequences = tokenizer.texts_to_sequences(sentences)\n",
    "    X_train_seq = tokenizer.texts_to_sequences(X_train)\n",
    "    X_valid_seq = tokenizer.texts_to_sequences(X_valid)\n",
    "    X_test_seq = tokenizer.texts_to_sequences(X_test)\n",
    "\n",
    "    print(\"max sequence length:\", max(len(s) for s in X_train_seq))\n",
    "    print(\"min sequence length:\", min(len(s) for s in X_train_seq))\n",
    "    s = sorted(len(s) for s in X_train_seq)\n",
    "    print(\"median sequence length:\", s[len(s) // 2])\n",
    "\n",
    "    # get word -> integer mapping\n",
    "    word2idx = tokenizer.word_index\n",
    "    print('Found %s unique tokens.' % len(word2idx))\n",
    "\n",
    "    # pad sequences so that we get a N x T matrix\n",
    "    # Keras take care of the 0 only for padding purpose \n",
    "    #data = pad_sequences(sequences, maxlen=max_len)\n",
    "    X_train = pad_sequences(X_train_seq, maxlen=max_len)\n",
    "    X_valid = pad_sequences(X_valid_seq, maxlen=max_len)\n",
    "    X_test = pad_sequences(X_test_seq, maxlen=max_len)\n",
    "    print('Shape of data tensor:', X_train.shape)\n",
    "\n",
    "    # prepare embedding matrix\n",
    "    print('Filling pre-trained embeddings...')\n",
    "    num_words = min(max_features, len(word2idx) + 1)\n",
    "    embedding_matrix = np.zeros((num_words, embed_size))\n",
    "    for word, i in word2idx.items():\n",
    "        if i < max_features:\n",
    "            embedding_vector = word2vec.get(word)\n",
    "        if embedding_vector is not None:\n",
    "          # words not found in embedding index will be all zeros.\n",
    "            embedding_matrix[i] = embedding_vector\n",
    "\n",
    "    # load pre-trained word embeddings into an Embedding layer\n",
    "    # note that we set trainable = False so as to keep the embeddings fixed\n",
    "    embedding_layer = Embedding(\n",
    "      min(max_features, embedding_matrix.shape[0]),\n",
    "      embed_size,\n",
    "      weights=[embedding_matrix],\n",
    "      input_length=max_len,\n",
    "        # don't want to make the embeddding updated during the procedure\n",
    "      trainable=False\n",
    "    )\n",
    "\n",
    "    return X_train, y_train, X_valid, y_valid, X_test, y_test, embedding_layer"
   ]
  },
  {
   "cell_type": "code",
   "execution_count": 5,
   "metadata": {},
   "outputs": [
    {
     "name": "stderr",
     "output_type": "stream",
     "text": [
      "1035it [00:00, 9744.10it/s]"
     ]
    },
    {
     "name": "stdout",
     "output_type": "stream",
     "text": [
      "Loading word vectors...\n"
     ]
    },
    {
     "name": "stderr",
     "output_type": "stream",
     "text": [
      "400000it [00:32, 12210.59it/s]\n"
     ]
    },
    {
     "name": "stdout",
     "output_type": "stream",
     "text": [
      "Found 400000 word vectors.\n",
      "Loading in comments...\n",
      "max sequence length: 36540\n",
      "min sequence length: 58\n",
      "median sequence length: 303\n",
      "Found 26969 unique tokens.\n",
      "Shape of data tensor: (34040, 200)\n",
      "Filling pre-trained embeddings...\n"
     ]
    }
   ],
   "source": [
    "X_train, y_train, X_valid, y_valid, X_test, y_test, embedding_layer = main(beeap_1, '../input/glove-6b/glove.6B.300d.txt', data_index=[data_index['train'][0], data_index['val'][0], data_index['test']], content_column='Contents', label_column=[str(i+1) for i in range(6)])"
   ]
  },
  {
   "cell_type": "code",
   "execution_count": 6,
   "metadata": {},
   "outputs": [],
   "source": [
    "import logging\n",
    "from sklearn.metrics import roc_auc_score, f1_score\n",
    "from keras.callbacks import Callback\n",
    "\n",
    "class RocAucEvaluation(Callback):\n",
    "    def __init__(self, validation_data=(), interval=1):\n",
    "        super(Callback, self).__init__()\n",
    "\n",
    "        self.interval = interval\n",
    "        self.X_val, self.y_val = validation_data\n",
    "\n",
    "    def on_epoch_end(self, epoch, logs={}):\n",
    "        if epoch % self.interval == 0:\n",
    "            y_pred = self.model.predict(self.X_val, verbose=0)\n",
    "            score = roc_auc_score(self.y_val, y_pred)\n",
    "            print(\"\\n ROC-AUC - epoch: {:d} - score: {:.6f}\".format(epoch+1, score))"
   ]
  },
  {
   "cell_type": "code",
   "execution_count": 7,
   "metadata": {},
   "outputs": [],
   "source": [
    "from keras.optimizers import Adam, RMSprop\n",
    "from keras.callbacks import EarlyStopping, ModelCheckpoint, LearningRateScheduler\n",
    "from keras.layers import Dense, Input, CuDNNLSTM, CuDNNGRU, Embedding, Dropout, Activation, Conv1D\n",
    "from keras.layers import Bidirectional, GlobalMaxPool1D, MaxPooling1D, Add, Flatten\n",
    "from keras.layers import GlobalAveragePooling1D, GlobalMaxPooling1D, concatenate, SpatialDropout1D\n",
    "from keras.models import Model, load_model\n",
    "from keras import initializers, regularizers, constraints, optimizers, layers, callbacks\n",
    "from keras import backend as K\n",
    "from keras.engine import InputSpec, Layer\n",
    "\n",
    "arguments = {\n",
    "    'max_len': 200,\n",
    "    'batch_size': 128,\n",
    "    'epochs': 50,\n",
    "    'learning_rate': 1e-3,\n",
    "    'learning_rate_decay': 0,\n",
    "    'units': 128,\n",
    "    'drop_out_rate': 0.2,\n",
    "    'checkpoint_path': 'best_model.hdf5',\n",
    "    'early_stop_patience': 3,\n",
    "}\n",
    "\n",
    "def build_lstm_model(X_train, y_train, X_valid, y_valid, arguments):\n",
    "\n",
    "    print('Building model...')\n",
    "\n",
    "    file_path = arguments['checkpoint_path']\n",
    "    check_point = ModelCheckpoint(file_path, monitor = \"val_loss\", verbose = 1,\n",
    "                                  save_best_only = True, mode = \"min\")\n",
    "    ra_val = RocAucEvaluation(validation_data=(X_valid, y_valid), interval = 1)\n",
    "    early_stop = EarlyStopping(monitor = \"val_loss\", mode = \"min\", patience = arguments['early_stop_patience'])\n",
    "    \n",
    "    inp = Input(shape=(arguments['max_len'],))\n",
    "    x = embedding_layer(inp)\n",
    "    x = CuDNNLSTM(arguments['units'], return_sequences=True, name='lstm_layer')(x)\n",
    "    x = GlobalMaxPool1D()(x)\n",
    "    x = Dropout(arguments['drop_out_rate'])(x)\n",
    "    x = Dense(50, activation=\"relu\")(x)\n",
    "    x = Dropout(arguments['drop_out_rate'])(x)\n",
    "    # using sigmoid since we are doing six binary classifications\n",
    "    if y_train.ndim == 2:\n",
    "        output = Dense(y_train.shape[1], activation='sigmoid')(x)\n",
    "    else:\n",
    "        output = Dense(1, activation='sigmoid')(x)\n",
    "\n",
    "    model = Model(inputs = inp, outputs = output)\n",
    "    model.compile(loss = \"binary_crossentropy\", optimizer = Adam(lr = arguments['learning_rate'], decay = arguments['learning_rate_decay']),\\\n",
    "                  metrics = [\"accuracy\"])\n",
    "    history = model.fit(X_train, y_train, batch_size = arguments['batch_size'], epochs = arguments['epochs'],\\\n",
    "                        validation_data = (X_valid, y_valid), verbose = 1, callbacks = [ra_val, check_point, early_stop])\n",
    "    model = load_model(file_path)\n",
    "    return model"
   ]
  },
  {
   "cell_type": "code",
   "execution_count": 8,
   "metadata": {},
   "outputs": [],
   "source": [
    "def build_bilstm_model(X_train, y_train, X_valid, y_valid, arguments):\n",
    "\n",
    "    print('Building model...')\n",
    "\n",
    "    file_path = arguments['checkpoint_path']\n",
    "    check_point = ModelCheckpoint(file_path, monitor = \"val_loss\", verbose = 1,\n",
    "                                  save_best_only = True, mode = \"min\")\n",
    "    ra_val = RocAucEvaluation(validation_data=(X_valid, y_valid), interval = 1)\n",
    "    early_stop = EarlyStopping(monitor = \"val_loss\", mode = \"min\", patience = arguments['early_stop_patience'])\n",
    "\n",
    "    inp = Input(shape=(arguments['max_len'],))\n",
    "    x = embedding_layer(inp)\n",
    "    x1 = SpatialDropout1D(arguments['drop_out_rate'])(x)\n",
    "    x = Bidirectional(CuDNNGRU(arguments['units'], return_sequences = True))(x1)\n",
    "    x = Conv1D(64, kernel_size = 2, padding = \"valid\", kernel_initializer = \"he_uniform\")(x)\n",
    "    y = Bidirectional(CuDNNLSTM(arguments['units'], return_sequences = True))(x1)\n",
    "    y = Conv1D(64, kernel_size = 2, padding = \"valid\", kernel_initializer = \"he_uniform\")(y)\n",
    "    avg_pool1 = GlobalAveragePooling1D()(x)\n",
    "    max_pool1 = GlobalMaxPooling1D()(x)\n",
    "    avg_pool2 = GlobalAveragePooling1D()(y)\n",
    "    max_pool2 = GlobalMaxPooling1D()(y)\n",
    "    x = concatenate([avg_pool1, max_pool1, avg_pool2, max_pool2])\n",
    "    if y_train.ndim == 2:\n",
    "        output = Dense(y_train.shape[1], activation='sigmoid')(x)\n",
    "    else:\n",
    "        output = Dense(1, activation='sigmoid')(x)\n",
    "\n",
    "    model = Model(inputs = inp, outputs = output)\n",
    "    model.compile(loss = \"binary_crossentropy\", optimizer = Adam(lr = arguments['learning_rate'], decay = arguments['learning_rate_decay']),\\\n",
    "                  metrics = [\"accuracy\"])\n",
    "    history = model.fit(X_train, y_train, batch_size = arguments['batch_size'], epochs = arguments['epochs'],\\\n",
    "                        validation_data = (X_valid, y_valid), verbose = 1, callbacks = [ra_val, check_point, early_stop])\n",
    "    model = load_model(file_path)\n",
    "    return model"
   ]
  },
  {
   "cell_type": "code",
   "execution_count": 9,
   "metadata": {},
   "outputs": [],
   "source": [
    "import numpy as np\n",
    "import matplotlib.pyplot as plt\n",
    "from itertools import cycle\n",
    "from scipy import interp\n",
    "from sklearn.preprocessing import label_binarize\n",
    "from sklearn.metrics import roc_curve, auc\n",
    "\n",
    "def plot_roc_curve(y_test, y_pred, title=None, micro=False, macro=True, per_class=False):\n",
    "\n",
    "    if y_train.ndim == 2:\n",
    "        num_instances, num_classes = y_train.shape\n",
    "    else:\n",
    "        num_instances = y_train.shape[0]\n",
    "        num_classes = 1\n",
    "    if (num_classes != 2) and (y_test.ndim == 1):\n",
    "        bi_y_test = label_binarize(y_test, classes=range(num_classes))\n",
    "    else:\n",
    "        bi_y_test = y_test\n",
    "    \n",
    "    fpr = {}\n",
    "    tpr = {}\n",
    "    roc_auc = {}\n",
    "    for i in range(num_classes):\n",
    "        fpr[i], tpr[i], _ = roc_curve(bi_y_test[:, i], y_pred[:, i])\n",
    "        roc_auc[i] = auc(fpr[i], tpr[i])\n",
    "    \n",
    "    fpr['micro'], tpr['micro'], _ = roc_curve(y_test.ravel(), y_pred.ravel())\n",
    "    roc_auc['micro'] = auc(fpr['micro'], tpr['micro'])\n",
    "\n",
    "    # Compute macro-average ROC curve and AUC\n",
    "    # Aggregate all false positive rates\n",
    "    all_fpr = np.unique(np.concatenate([fpr[i] for i in range(num_classes)]))\n",
    "    # Interpolate all ROC curves at this points\n",
    "    mean_tpr = np.zeros_like(all_fpr)\n",
    "    for i in range(num_classes):\n",
    "        mean_tpr += interp(all_fpr, fpr[i], tpr[i])\n",
    "    # Average and compute AUC\n",
    "    mean_tpr /= num_classes\n",
    "\n",
    "    fpr['macro'] = all_fpr\n",
    "    tpr['macro'] = mean_tpr\n",
    "    roc_auc['macro'] = auc(fpr['macro'], tpr['macro'])\n",
    "\n",
    "    # Plot all ROC curves\n",
    "    plt.figure(figsize=(10, 10))\n",
    "    if micro == True:\n",
    "        plt.plot(fpr['micro'], tpr['micro'],\n",
    "                 label='micro-average ROC curve (area = {0:0.4f})'\n",
    "                       ''.format(roc_auc['micro']),\n",
    "                 color='orangered', linestyle=':', linewidth=3)\n",
    "\n",
    "    if macro == True:\n",
    "        plt.plot(fpr['macro'], tpr['macro'],\n",
    "                 label='macro-average ROC curve (area = {0:0.4f})'\n",
    "                       ''.format(roc_auc['macro']),\n",
    "                 color='navy', linestyle=':', linewidth=3)\n",
    "\n",
    "    if per_class == True:\n",
    "        for i in range(num_classes):\n",
    "            plt.plot(fpr[i], tpr[i], alpha=0.2,\n",
    "                     label='ROC curve of class {0} (area = {1:0.4f})'\n",
    "                     ''.format(i+1, roc_auc[i]))\n",
    "\n",
    "    plt.plot([0, 1], [0, 1], 'k--')\n",
    "    plt.xlim([0.0, 1.0])\n",
    "    plt.ylim([0.0, 1.05])\n",
    "    plt.xticks(fontsize=13)\n",
    "    plt.xticks(fontsize=13)\n",
    "    plt.xlabel('False Positive Rate', fontsize=16)\n",
    "    plt.ylabel('True Positive Rate', fontsize=16)\n",
    "    if type(title) == str:\n",
    "        plt.title(title, fontsize=16)\n",
    "    elif title != None:\n",
    "        print('Title must be a string.')\n",
    "        plt.title('ROC Curves', fontsize=16)\n",
    "    else:\n",
    "        plt.title('ROC Curves', fontsize=16)\n",
    "    plt.legend(loc=4)\n",
    "    plt.show()"
   ]
  },
  {
   "cell_type": "code",
   "execution_count": 10,
   "metadata": {},
   "outputs": [],
   "source": [
    "from sklearn.tree import DecisionTreeClassifier\n",
    "\n",
    "def pred_classes_dt(y_train_pred, y_train, y_test_pred):\n",
    "    if y_train.ndim == 2:\n",
    "        num_instances, num_classes = y_train.shape\n",
    "    else:\n",
    "        num_instances = y_train.shape[0]\n",
    "        num_classes = 1\n",
    "    threshold = []\n",
    "    for i in range(num_classes):\n",
    "        if num_classes == 1:\n",
    "            clf = DecisionTreeClassifier(max_depth=1)\n",
    "            clf.fit(y_train_pred[:, i].reshape(-1, 1), y_train[:, i])\n",
    "            threshold += [clf.tree_.threshold[0]]\n",
    "        else:\n",
    "            clf = DecisionTreeClassifier(max_depth=1)\n",
    "            clf.fit(y_train_pred[:, i].reshape(-1, 1), y_train[:, i])\n",
    "            threshold += [clf.tree_.threshold[0]]\n",
    "    pred_classes = y_test_pred >= threshold\n",
    "    return pred_classes.astype(int)"
   ]
  },
  {
   "cell_type": "code",
   "execution_count": 11,
   "metadata": {},
   "outputs": [],
   "source": [
    "from sklearn.metrics import precision_recall_curve\n",
    "\n",
    "def pred_classes_f1(y_train_pred, y_train, y_test_pred):\n",
    "    if y_train.ndim == 2:\n",
    "        num_instances, num_classes = y_train.shape\n",
    "    else:\n",
    "        num_instances = y_train.shape[0]\n",
    "        num_classes = 1\n",
    "    threshold = []\n",
    "    for i in range(num_classes):\n",
    "        if num_classes == 1:\n",
    "            precision, recall, thresholds = precision_recall_curve(y_train, train_pred)\n",
    "            f1 = 2 * precision * recall / (precision + recall)\n",
    "            threshold += [thresholds[np.argmax(f1)]]\n",
    "        else:\n",
    "            precision, recall, thresholds = precision_recall_curve(y_train[:, i], train_pred[:, i])\n",
    "            f1 = 2 * precision * recall / (precision + recall)\n",
    "            threshold += [thresholds[np.argmax(f1)]]\n",
    "    pred_classes = y_test_pred >= threshold\n",
    "    return pred_classes.astype(int)"
   ]
  },
  {
   "cell_type": "code",
   "execution_count": 12,
   "metadata": {},
   "outputs": [],
   "source": [
    "import numpy as np\n",
    "import matplotlib.pyplot as plt\n",
    "from sklearn.preprocessing import label_binarize\n",
    "from sklearn.metrics import confusion_matrix\n",
    "\n",
    "def plot_confusion_matrix(y_test, y_pred, title=None, x_classes=None, y_classes=None):\n",
    "    if y_pred.ndim != 1:\n",
    "        print(\"y_pred don't accept probability, and please don't binarize\")\n",
    "    cm = confusion_matrix(y_test, y_pred)\n",
    "    num_classes = cm.shape[0]\n",
    "    count = np.unique(y_test, return_counts=True)[1].reshape(num_classes, 1)\n",
    "    if 0 in count:\n",
    "        print('Detect 0 value in True Label, please double check')\n",
    "\n",
    "    fig = plt.figure(figsize=(10,6))\n",
    "    ax = plt.subplot(111)\n",
    "    im = ax.imshow(cm/count, cmap='YlGnBu')\n",
    "    im.set_clim(0, 1)\n",
    "    cbar = ax.figure.colorbar(im, ax=ax)\n",
    "    ax.set_xticks(np.arange(num_classes))\n",
    "    ax.set_yticks(np.arange(num_classes))\n",
    "    if type(x_classes) == list:\n",
    "        ax.set_xticklabels(x_classes, set_rotation(45))\n",
    "    if type(y_classes) == list:\n",
    "        ax.set_yticklabels(y_classes)\n",
    "    plt.yticks(fontsize=13)\n",
    "    plt.xticks(fontsize=13)\n",
    "    for i in range(num_classes):\n",
    "        for j in range(num_classes):\n",
    "            text = ax.text(i, j, cm[j][i], ha=\"center\", va=\"center\", color=\"w\" if (cm/count)[j, i] > 0.5 else \"black\", fontsize=13)\n",
    "    ax.set_ylabel('True Label', fontsize=16)\n",
    "    ax.set_xlabel('Predicted Label', fontsize=16)\n",
    "    ax.set_title('Confusion Matrix for Coarse Genre', fontsize=16, fontweight='bold')\n",
    "    plt.show()"
   ]
  },
  {
   "cell_type": "markdown",
   "metadata": {},
   "source": [
    "---\n",
    "\n",
    "# Example"
   ]
  },
  {
   "cell_type": "code",
   "execution_count": 13,
   "metadata": {},
   "outputs": [
    {
     "name": "stderr",
     "output_type": "stream",
     "text": [
      "1522it [00:00, 15217.55it/s]"
     ]
    },
    {
     "name": "stdout",
     "output_type": "stream",
     "text": [
      "Loading word vectors...\n"
     ]
    },
    {
     "name": "stderr",
     "output_type": "stream",
     "text": [
      "400000it [00:32, 12478.33it/s]\n"
     ]
    },
    {
     "name": "stdout",
     "output_type": "stream",
     "text": [
      "Found 400000 word vectors.\n",
      "Loading in comments...\n",
      "max sequence length: 36540\n",
      "min sequence length: 58\n",
      "median sequence length: 303\n",
      "Found 26969 unique tokens.\n",
      "Shape of data tensor: (34040, 200)\n",
      "Filling pre-trained embeddings...\n",
      "Building model...\n",
      "WARNING:tensorflow:From /opt/conda/lib/python3.6/site-packages/tensorflow/python/framework/op_def_library.py:263: colocate_with (from tensorflow.python.framework.ops) is deprecated and will be removed in a future version.\n",
      "Instructions for updating:\n",
      "Colocations handled automatically by placer.\n",
      "WARNING:tensorflow:From /opt/conda/lib/python3.6/site-packages/keras/backend/tensorflow_backend.py:3445: calling dropout (from tensorflow.python.ops.nn_ops) with keep_prob is deprecated and will be removed in a future version.\n",
      "Instructions for updating:\n",
      "Please use `rate` instead of `keep_prob`. Rate should be set to `rate = 1 - keep_prob`.\n",
      "WARNING:tensorflow:From /opt/conda/lib/python3.6/site-packages/tensorflow/python/ops/math_ops.py:3066: to_int32 (from tensorflow.python.ops.math_ops) is deprecated and will be removed in a future version.\n",
      "Instructions for updating:\n",
      "Use tf.cast instead.\n",
      "WARNING:tensorflow:From /opt/conda/lib/python3.6/site-packages/tensorflow/python/ops/math_grad.py:102: div (from tensorflow.python.ops.math_ops) is deprecated and will be removed in a future version.\n",
      "Instructions for updating:\n",
      "Deprecated in favor of operator or tf.math.divide.\n",
      "Train on 34040 samples, validate on 227 samples\n",
      "Epoch 1/50\n",
      "34040/34040 [==============================] - 24s 697us/step - loss: 0.2032 - acc: 0.9205 - val_loss: 0.2935 - val_acc: 0.8928\n",
      "\n",
      " ROC-AUC - epoch: 1 - score: 0.859708\n",
      "\n",
      "Epoch 00001: val_loss improved from inf to 0.29346, saving model to best_model.hdf5\n",
      "Epoch 2/50\n",
      "34040/34040 [==============================] - 19s 564us/step - loss: 0.0395 - acc: 0.9884 - val_loss: 0.4477 - val_acc: 0.8899\n",
      "\n",
      " ROC-AUC - epoch: 2 - score: 0.856509\n",
      "\n",
      "Epoch 00002: val_loss did not improve from 0.29346\n",
      "Epoch 3/50\n",
      "34040/34040 [==============================] - 19s 567us/step - loss: 0.0223 - acc: 0.9926 - val_loss: 0.4829 - val_acc: 0.8928\n",
      "\n",
      " ROC-AUC - epoch: 3 - score: 0.849592\n",
      "\n",
      "Epoch 00003: val_loss did not improve from 0.29346\n",
      "Epoch 4/50\n",
      "34040/34040 [==============================] - 19s 567us/step - loss: 0.0193 - acc: 0.9932 - val_loss: 0.4915 - val_acc: 0.8921\n",
      "\n",
      " ROC-AUC - epoch: 4 - score: 0.840629\n",
      "\n",
      "Epoch 00004: val_loss did not improve from 0.29346\n",
      "340/340 [==============================] - 0s 1ms/step\n"
     ]
    },
    {
     "name": "stderr",
     "output_type": "stream",
     "text": [
      "1045it [00:00, 10449.54it/s]"
     ]
    },
    {
     "name": "stdout",
     "output_type": "stream",
     "text": [
      "Loading word vectors...\n"
     ]
    },
    {
     "name": "stderr",
     "output_type": "stream",
     "text": [
      "400000it [00:32, 12492.28it/s]\n"
     ]
    },
    {
     "name": "stdout",
     "output_type": "stream",
     "text": [
      "Found 400000 word vectors.\n",
      "Loading in comments...\n",
      "max sequence length: 36540\n",
      "min sequence length: 58\n",
      "median sequence length: 296\n",
      "Found 25931 unique tokens.\n",
      "Shape of data tensor: (34040, 200)\n",
      "Filling pre-trained embeddings...\n",
      "Building model...\n",
      "Train on 34040 samples, validate on 227 samples\n",
      "Epoch 1/50\n",
      "34040/34040 [==============================] - 21s 619us/step - loss: 0.2054 - acc: 0.9181 - val_loss: 0.3382 - val_acc: 0.8979\n",
      "\n",
      " ROC-AUC - epoch: 1 - score: 0.819940\n",
      "\n",
      "Epoch 00001: val_loss improved from inf to 0.33817, saving model to best_model.hdf5\n",
      "Epoch 2/50\n",
      "34040/34040 [==============================] - 19s 563us/step - loss: 0.0405 - acc: 0.9881 - val_loss: 0.4459 - val_acc: 0.8847\n",
      "\n",
      " ROC-AUC - epoch: 2 - score: 0.807754\n",
      "\n",
      "Epoch 00002: val_loss did not improve from 0.33817\n",
      "Epoch 3/50\n",
      "34040/34040 [==============================] - 19s 566us/step - loss: 0.0217 - acc: 0.9930 - val_loss: 0.5226 - val_acc: 0.8869\n",
      "\n",
      " ROC-AUC - epoch: 3 - score: 0.800691\n",
      "\n",
      "Epoch 00003: val_loss did not improve from 0.33817\n",
      "Epoch 4/50\n",
      "34040/34040 [==============================] - 19s 569us/step - loss: 0.0192 - acc: 0.9935 - val_loss: 0.5286 - val_acc: 0.8943\n",
      "\n",
      " ROC-AUC - epoch: 4 - score: 0.807439\n",
      "\n",
      "Epoch 00004: val_loss did not improve from 0.33817\n",
      "340/340 [==============================] - 1s 2ms/step\n"
     ]
    },
    {
     "name": "stderr",
     "output_type": "stream",
     "text": [
      "2512it [00:00, 12617.76it/s]"
     ]
    },
    {
     "name": "stdout",
     "output_type": "stream",
     "text": [
      "Loading word vectors...\n"
     ]
    },
    {
     "name": "stderr",
     "output_type": "stream",
     "text": [
      "400000it [00:31, 12590.64it/s]\n"
     ]
    },
    {
     "name": "stdout",
     "output_type": "stream",
     "text": [
      "Found 400000 word vectors.\n",
      "Loading in comments...\n",
      "max sequence length: 33773\n",
      "min sequence length: 58\n",
      "median sequence length: 298\n",
      "Found 26054 unique tokens.\n",
      "Shape of data tensor: (34040, 200)\n",
      "Filling pre-trained embeddings...\n",
      "Building model...\n",
      "Train on 34040 samples, validate on 227 samples\n",
      "Epoch 1/50\n",
      "34040/34040 [==============================] - 22s 636us/step - loss: 0.2044 - acc: 0.9202 - val_loss: 0.3197 - val_acc: 0.8825\n",
      "\n",
      " ROC-AUC - epoch: 1 - score: 0.858412\n",
      "\n",
      "Epoch 00001: val_loss improved from inf to 0.31972, saving model to best_model.hdf5\n",
      "Epoch 2/50\n",
      "34040/34040 [==============================] - 19s 569us/step - loss: 0.0424 - acc: 0.9870 - val_loss: 0.4760 - val_acc: 0.8767\n",
      "\n",
      " ROC-AUC - epoch: 2 - score: 0.847126\n",
      "\n",
      "Epoch 00002: val_loss did not improve from 0.31972\n",
      "Epoch 3/50\n",
      "34040/34040 [==============================] - 19s 568us/step - loss: 0.0243 - acc: 0.9913 - val_loss: 0.4975 - val_acc: 0.8862\n",
      "\n",
      " ROC-AUC - epoch: 3 - score: 0.854187\n",
      "\n",
      "Epoch 00003: val_loss did not improve from 0.31972\n",
      "Epoch 4/50\n",
      "34040/34040 [==============================] - 19s 571us/step - loss: 0.0207 - acc: 0.9922 - val_loss: 0.5462 - val_acc: 0.8789\n",
      "\n",
      " ROC-AUC - epoch: 4 - score: 0.840987\n",
      "\n",
      "Epoch 00004: val_loss did not improve from 0.31972\n",
      "340/340 [==============================] - 1s 2ms/step\n"
     ]
    }
   ],
   "source": [
    "predictions = []\n",
    "for i in range(3):\n",
    "    X_train, y_train, X_valid, y_valid, X_test, y_test, embedding_layer = main(beeap_1, '../input/glove-6b/glove.6B.300d.txt', data_index=[data_index['train'][i], data_index['val'][i], data_index['test']], content_column='Contents', label_column=[str(i+1) for i in range(6)])\n",
    "    model =  build_bilstm_model(X_train, y_train, X_valid, y_valid, arguments)\n",
    "    pred = model.predict(X_test, batch_size = arguments['batch_size'], verbose = 1)\n",
    "    predictions += [pred]"
   ]
  },
  {
   "cell_type": "code",
   "execution_count": 14,
   "metadata": {},
   "outputs": [
    {
     "name": "stdout",
     "output_type": "stream",
     "text": [
      "34040/34040 [==============================] - 4s 104us/step\n",
      "macro F1 score: 0.5196\n",
      "micro F1 score: 0.6803\n",
      "macro F1 score: 0.5133\n",
      "micro F1 score: 0.6804\n"
     ]
    }
   ],
   "source": [
    "train_pred = model.predict(X_train, batch_size = 1024, verbose = 1)\n",
    "y_pred_dt = pred_classes_dt(train_pred, y_train, np.average(predictions, axis=0))\n",
    "print('macro F1 score: {0:0.4f}'.format(f1_score(y_test, y_pred_dt, average='macro')))\n",
    "print('micro F1 score: {0:0.4f}'.format(f1_score(y_test, y_pred_dt, average='micro')))\n",
    "\n",
    "y_pred_f1 = pred_classes_f1(train_pred, y_train, np.average(predictions, axis=0))\n",
    "print('macro F1 score: {0:0.4f}'.format(f1_score(y_test, y_pred_f1, average='macro')))\n",
    "print('micro F1 score: {0:0.4f}'.format(f1_score(y_test, y_pred_f1, average='micro')))"
   ]
  },
  {
   "cell_type": "code",
   "execution_count": 15,
   "metadata": {},
   "outputs": [
    {
     "data": {
      "image/png": "[encoded data removed]",
      "text/plain": [
       "<Figure size 720x432 with 2 Axes>"
      ]
     },
     "metadata": {},
     "output_type": "display_data"
    }
   ],
   "source": [
    "# NOT RIGHT!!! Need to draw cm for each class\n",
    "\n",
    "y_pred_1 = np.argmax(y_pred_f1, axis=1)\n",
    "y_test_1 = np.argmax(y_test, axis=1)\n",
    "plot_confusion_matrix(y_test_1, y_pred_1)"
   ]
  },
  {
   "cell_type": "code",
   "execution_count": 16,
   "metadata": {},
   "outputs": [
    {
     "data": {
      "image/png": "[encoded data removed]",
      "text/plain": [
       "<Figure size 720x720 with 1 Axes>"
      ]
     },
     "metadata": {},
     "output_type": "display_data"
    }
   ],
   "source": [
    "plot_roc_curve(y_test, np.average(predictions, axis=0), title='ROC Curves for Coarse Genre', micro=True, per_class=True)"
   ]
  },
  {
   "cell_type": "code",
   "execution_count": 17,
   "metadata": {},
   "outputs": [
    {
     "name": "stderr",
     "output_type": "stream",
     "text": [
      "2685it [00:00, 13469.96it/s]"
     ]
    },
    {
     "name": "stdout",
     "output_type": "stream",
     "text": [
      "Loading word vectors...\n"
     ]
    },
    {
     "name": "stderr",
     "output_type": "stream",
     "text": [
      "400000it [00:32, 12479.17it/s]\n"
     ]
    },
    {
     "name": "stdout",
     "output_type": "stream",
     "text": [
      "Found 400000 word vectors.\n",
      "Loading in comments...\n",
      "max sequence length: 36540\n",
      "min sequence length: 58\n",
      "median sequence length: 303\n",
      "Found 26969 unique tokens.\n",
      "Shape of data tensor: (34040, 200)\n",
      "Filling pre-trained embeddings...\n",
      "Building model...\n",
      "Train on 34040 samples, validate on 227 samples\n",
      "Epoch 1/50\n",
      "34040/34040 [==============================] - 7s 193us/step - loss: 0.2880 - acc: 0.8840 - val_loss: 0.2935 - val_acc: 0.8759\n",
      "\n",
      " ROC-AUC - epoch: 1 - score: 0.848114\n",
      "\n",
      "Epoch 00001: val_loss improved from inf to 0.29352, saving model to best_model.hdf5\n",
      "Epoch 2/50\n",
      "34040/34040 [==============================] - 5s 135us/step - loss: 0.1084 - acc: 0.9604 - val_loss: 0.3603 - val_acc: 0.8847\n",
      "\n",
      " ROC-AUC - epoch: 2 - score: 0.870769\n",
      "\n",
      "Epoch 00002: val_loss did not improve from 0.29352\n",
      "Epoch 3/50\n",
      "34040/34040 [==============================] - 5s 133us/step - loss: 0.0506 - acc: 0.9830 - val_loss: 0.4334 - val_acc: 0.8847\n",
      "\n",
      " ROC-AUC - epoch: 3 - score: 0.860312\n",
      "\n",
      "Epoch 00003: val_loss did not improve from 0.29352\n",
      "Epoch 4/50\n",
      "34040/34040 [==============================] - 5s 134us/step - loss: 0.0361 - acc: 0.9879 - val_loss: 0.5787 - val_acc: 0.8965\n",
      "\n",
      " ROC-AUC - epoch: 4 - score: 0.849029\n",
      "\n",
      "Epoch 00004: val_loss did not improve from 0.29352\n",
      "340/340 [==============================] - 1s 2ms/step\n"
     ]
    },
    {
     "name": "stderr",
     "output_type": "stream",
     "text": [
      "2071it [00:00, 10408.16it/s]"
     ]
    },
    {
     "name": "stdout",
     "output_type": "stream",
     "text": [
      "Loading word vectors...\n"
     ]
    },
    {
     "name": "stderr",
     "output_type": "stream",
     "text": [
      "400000it [00:33, 11829.72it/s]\n"
     ]
    },
    {
     "name": "stdout",
     "output_type": "stream",
     "text": [
      "Found 400000 word vectors.\n",
      "Loading in comments...\n",
      "max sequence length: 36540\n",
      "min sequence length: 58\n",
      "median sequence length: 296\n",
      "Found 25931 unique tokens.\n",
      "Shape of data tensor: (34040, 200)\n",
      "Filling pre-trained embeddings...\n",
      "Building model...\n",
      "Train on 34040 samples, validate on 227 samples\n",
      "Epoch 1/50\n",
      "34040/34040 [==============================] - 7s 215us/step - loss: 0.3165 - acc: 0.8697 - val_loss: 0.2680 - val_acc: 0.9060\n",
      "\n",
      " ROC-AUC - epoch: 1 - score: 0.817760\n",
      "\n",
      "Epoch 00001: val_loss improved from inf to 0.26800, saving model to best_model.hdf5\n",
      "Epoch 2/50\n",
      "34040/34040 [==============================] - 5s 136us/step - loss: 0.1166 - acc: 0.9575 - val_loss: 0.3802 - val_acc: 0.8943\n",
      "\n",
      " ROC-AUC - epoch: 2 - score: 0.800568\n",
      "\n",
      "Epoch 00002: val_loss did not improve from 0.26800\n",
      "Epoch 3/50\n",
      "34040/34040 [==============================] - 5s 134us/step - loss: 0.0570 - acc: 0.9803 - val_loss: 0.5110 - val_acc: 0.8965\n",
      "\n",
      " ROC-AUC - epoch: 3 - score: 0.789681\n",
      "\n",
      "Epoch 00003: val_loss did not improve from 0.26800\n",
      "Epoch 4/50\n",
      "34040/34040 [==============================] - 5s 135us/step - loss: 0.0403 - acc: 0.9863 - val_loss: 0.5243 - val_acc: 0.8935\n",
      "\n",
      " ROC-AUC - epoch: 4 - score: 0.790600\n",
      "\n",
      "Epoch 00004: val_loss did not improve from 0.26800\n",
      "340/340 [==============================] - 1s 3ms/step\n"
     ]
    },
    {
     "name": "stderr",
     "output_type": "stream",
     "text": [
      "1366it [00:00, 13656.59it/s]"
     ]
    },
    {
     "name": "stdout",
     "output_type": "stream",
     "text": [
      "Loading word vectors...\n"
     ]
    },
    {
     "name": "stderr",
     "output_type": "stream",
     "text": [
      "400000it [00:30, 12961.15it/s]\n"
     ]
    },
    {
     "name": "stdout",
     "output_type": "stream",
     "text": [
      "Found 400000 word vectors.\n",
      "Loading in comments...\n",
      "max sequence length: 33773\n",
      "min sequence length: 58\n",
      "median sequence length: 298\n",
      "Found 26054 unique tokens.\n",
      "Shape of data tensor: (34040, 200)\n",
      "Filling pre-trained embeddings...\n",
      "Building model...\n",
      "Train on 34040 samples, validate on 227 samples\n",
      "Epoch 1/50\n",
      "34040/34040 [==============================] - 7s 216us/step - loss: 0.2996 - acc: 0.8797 - val_loss: 0.3005 - val_acc: 0.8818\n",
      "\n",
      " ROC-AUC - epoch: 1 - score: 0.840065\n",
      "\n",
      "Epoch 00001: val_loss improved from inf to 0.30052, saving model to best_model.hdf5\n",
      "Epoch 2/50\n",
      "34040/34040 [==============================] - 5s 136us/step - loss: 0.1263 - acc: 0.9516 - val_loss: 0.3618 - val_acc: 0.8869\n",
      "\n",
      " ROC-AUC - epoch: 2 - score: 0.848068\n",
      "\n",
      "Epoch 00002: val_loss did not improve from 0.30052\n",
      "Epoch 3/50\n",
      "34040/34040 [==============================] - 5s 134us/step - loss: 0.0639 - acc: 0.9777 - val_loss: 0.4410 - val_acc: 0.8825\n",
      "\n",
      " ROC-AUC - epoch: 3 - score: 0.836491\n",
      "\n",
      "Epoch 00003: val_loss did not improve from 0.30052\n",
      "Epoch 4/50\n",
      "34040/34040 [==============================] - 5s 135us/step - loss: 0.0415 - acc: 0.9855 - val_loss: 0.5372 - val_acc: 0.8730\n",
      "\n",
      " ROC-AUC - epoch: 4 - score: 0.820815\n",
      "\n",
      "Epoch 00004: val_loss did not improve from 0.30052\n",
      "340/340 [==============================] - 1s 3ms/step\n"
     ]
    }
   ],
   "source": [
    "predictions = []\n",
    "for i in range(3):\n",
    "    X_train, y_train, X_valid, y_valid, X_test, y_test, embedding_layer = main(beeap_1, '../input/glove-6b/glove.6B.300d.txt', data_index=[data_index['train'][i], data_index['val'][i], data_index['test']], content_column='Contents', label_column=[str(i+1) for i in range(6)])\n",
    "    model =  build_lstm_model(X_train, y_train, X_valid, y_valid, arguments)\n",
    "    pred = model.predict(X_test, batch_size = arguments['batch_size'], verbose = 1)\n",
    "    predictions += [pred]"
   ]
  },
  {
   "cell_type": "code",
   "execution_count": 19,
   "metadata": {},
   "outputs": [
    {
     "name": "stdout",
     "output_type": "stream",
     "text": [
      "34040/34040 [==============================] - 1s 29us/step\n",
      "macro F1 score: 0.4999\n",
      "micro F1 score: 0.6588\n"
     ]
    }
   ],
   "source": [
    "train_pred = model.predict(X_train, batch_size = 1024, verbose = 1)\n",
    "y_pred = pred_classes_f1(train_pred, y_train, np.average(predictions, axis=0))\n",
    "print('macro F1 score: {0:0.4f}'.format(f1_score(y_test, y_pred, average='macro')))\n",
    "print('micro F1 score: {0:0.4f}'.format(f1_score(y_test, y_pred, average='micro')))"
   ]
  },
  {
   "cell_type": "code",
   "execution_count": 20,
   "metadata": {
    "scrolled": false
   },
   "outputs": [
    {
     "data": {
      "image/png": "[encoded data removed]",
      "text/plain": [
       "<Figure size 720x720 with 1 Axes>"
      ]
     },
     "metadata": {},
     "output_type": "display_data"
    }
   ],
   "source": [
    "plot_roc_curve(y_test, np.average(predictions, axis=0), title='ROC Curves for Coarse Genre', micro=True, per_class=True)"
   ]
  }
 ],
 "metadata": {
  "kernelspec": {
   "display_name": "Python 2",
   "language": "python",
   "name": "python2"
  },
  "language_info": {
   "codemirror_mode": {
    "name": "ipython",
    "version": 2
   },
   "file_extension": ".py",
   "mimetype": "text/x-python",
   "name": "python",
   "nbconvert_exporter": "python",
   "pygments_lexer": "ipython2",
   "version": "2.7.14"
  }
 },
 "nbformat": 4,
 "nbformat_minor": 1
}
